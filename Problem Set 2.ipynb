{
 "cells": [
  {
   "cell_type": "markdown",
   "id": "8bc89781",
   "metadata": {},
   "source": [
    "<h1> \n",
    "<center><font color='#333333'>Problem Set 2</center>\n",
    "    <hr />\n",
    "    \n",
    "</h1>\n"
   ]
  },
  {
   "cell_type": "markdown",
   "id": "afc878b1",
   "metadata": {},
   "source": [
    "<h1><font color='black'>\n",
    "    Question 1\n",
    "    </font></h1>\n",
    "<p></p>"
   ]
  },
  {
   "cell_type": "code",
   "execution_count": 74,
   "id": "d33674c0",
   "metadata": {},
   "outputs": [
    {
     "name": "stdout",
     "output_type": "stream",
     "text": [
      "6\n"
     ]
    }
   ],
   "source": [
    "a = 0\n",
    "\n",
    "def b(): \n",
    "   global a\n",
    "   a = c(a)\n",
    "def c(a):\n",
    "   return a + 2 \n",
    "\n",
    "b()\n",
    "b()\n",
    "b()\n",
    "print(a)"
   ]
  },
  {
   "cell_type": "markdown",
   "id": "b4f3e4c6",
   "metadata": {},
   "source": [
    "<h1><font color='#808080'><font= \"Courier New Bold\">\n",
    "    Question 2\n",
    "    </font></h1>\n",
    "<p></p>"
   ]
  },
  {
   "cell_type": "code",
   "execution_count": 75,
   "id": "67b698f7",
   "metadata": {},
   "outputs": [
    {
     "name": "stdout",
     "output_type": "stream",
     "text": [
      "Enter Your File Name Here: Romil \n",
      "Romil  Not Found!!!\n"
     ]
    }
   ],
   "source": [
    "file_name = input('Enter Your File Name Here: ')\n",
    "\n",
    "def filelength(file_name):\n",
    "    try:\n",
    "      file = open(file_name)\n",
    "      contents = file.read()\n",
    "      file.close()\n",
    "      print(len(contents))\n",
    "    except FileNotFoundError:\n",
    "      print( file_name +\" Not Found!!!\")\n",
    "      \n",
    "      \n",
    "filelength(file_name)"
   ]
  },
  {
   "cell_type": "markdown",
   "id": "897f8032",
   "metadata": {},
   "source": [
    "<h1><font color='pink'><font= \"Courier New Bold\">\n",
    "    Question 3\n",
    "    </font></h1>\n",
    "<p></p>"
   ]
  },
  {
   "cell_type": "code",
   "execution_count": 76,
   "id": "7e45663c",
   "metadata": {
    "scrolled": true
   },
   "outputs": [
    {
     "name": "stdout",
     "output_type": "stream",
     "text": [
      "['doll', 'firetruck', 'kitten']\n",
      "I am a Kangaroo located at coordinates (0,0)\n",
      "I am a Kangaroo located at coordinates (4,0)\n"
     ]
    }
   ],
   "source": [
    "class Marsupial():\n",
    "     \n",
    "  def __init__(MyObject):\n",
    "      \n",
    "    MyObject.list = []\n",
    "     \n",
    "     \n",
    "  def put_in_pouch(MyObject, Myitem):\n",
    "     \n",
    "    MyObject.list.append(Myitem)\n",
    "     \n",
    "     \n",
    "  def pouch_contents(MyObject):\n",
    "    return MyObject.list\n",
    "\n",
    "class Kangaroo(Marsupial):\n",
    "\n",
    "  def __init__(MyObject,x,y):\n",
    "    Marsupial.__init__(MyObject)\n",
    "    MyObject.x = x\n",
    "    MyObject.y = y\n",
    "  def jump(MyObject,dx,dy):\n",
    "    MyObject.x += dx\n",
    "    MyObject.y += dy\n",
    " \n",
    "  def __str__(MyObject):\n",
    "\n",
    "    return 'I am a Kangaroo located at coordinates ({},{})'.format(MyObject.x,MyObject.y)\n",
    "\n",
    "m = Marsupial()\n",
    "m.put_in_pouch('doll')\n",
    "m.put_in_pouch('firetruck')\n",
    "m.put_in_pouch('kitten')\n",
    "print(m.pouch_contents())\n",
    "\n",
    "\n",
    "k = Kangaroo(0,0)\n",
    "print(k)\n",
    "k.put_in_pouch('doll')\n",
    "k.put_in_pouch('firetruck')\n",
    "k.put_in_pouch('kitten')\n",
    "k.pouch_contents()\n",
    "k.jump(1,0)\n",
    "k.jump(2,0)\n",
    "k.jump(1,0)\n",
    "print(k)"
   ]
  },
  {
   "cell_type": "markdown",
   "id": "6de9278b",
   "metadata": {},
   "source": [
    "<h1><font color='brown'><font= \"Courier New Bold\">\n",
    "    Question 4\n",
    "    </font></h1>\n",
    "<p></p>"
   ]
  },
  {
   "cell_type": "code",
   "execution_count": 77,
   "id": "0ca89570",
   "metadata": {
    "scrolled": true
   },
   "outputs": [
    {
     "name": "stdout",
     "output_type": "stream",
     "text": [
      "10\n",
      "5\n",
      "16\n",
      "8\n",
      "4\n",
      "2\n",
      "1\n"
     ]
    }
   ],
   "source": [
    "def collatz(x):\n",
    "\n",
    "    print(x)\n",
    "    if x==1:\n",
    "        return \n",
    "    elif x%2==0:\n",
    "        return collatz(x//2)  \n",
    "    else:\n",
    "        return collatz(x*3+1)  \n",
    "    \n",
    "collatz(10) "
   ]
  },
  {
   "cell_type": "markdown",
   "id": "14ba32e0",
   "metadata": {},
   "source": [
    "<h1><font color='red'><font= \"Courier New Bold\">\n",
    "    Question 5\n",
    "    </font></h1>\n",
    "<p></p>"
   ]
  },
  {
   "cell_type": "code",
   "execution_count": 78,
   "id": "0de497ac",
   "metadata": {},
   "outputs": [
    {
     "name": "stdout",
     "output_type": "stream",
     "text": [
      "0\n",
      "1\n"
     ]
    },
    {
     "data": {
      "text/plain": [
       "('11', '1001')"
      ]
     },
     "execution_count": 78,
     "metadata": {},
     "output_type": "execute_result"
    }
   ],
   "source": [
    "def binary(n):\n",
    "    if n < 2:\n",
    "        print (n)\n",
    "    else:\n",
    "       num = ''\n",
    "       while n > 0:\n",
    "           num = str((n % 2)) + num\n",
    "           n //= 2\n",
    "       return num\n",
    "\n",
    "binary(0)\n",
    "binary(1)\n",
    "binary(3), binary(9)"
   ]
  },
  {
   "cell_type": "markdown",
   "id": "b8027de3",
   "metadata": {},
   "source": [
    "<h1><font color='Yellow'><font= \"Courier New Bold\">\n",
    "    Question 6\n",
    "    </font></h1>\n",
    "<p></p>"
   ]
  },
  {
   "cell_type": "code",
   "execution_count": 83,
   "id": "d82313b4",
   "metadata": {},
   "outputs": [
    {
     "name": "stdout",
     "output_type": "stream",
     "text": [
      "W3C Mission\n",
      "\tPrinciples\n"
     ]
    }
   ],
   "source": [
    "from html.parser import HTMLParser\n",
    "\n",
    "class MyHeadingParser(HTMLParser):\n",
    "    a = ''\n",
    "    def handle_starttag(self, tag, attrs):\n",
    "        if tag == 'h1':\n",
    "            self.a = 'h1'\n",
    "        if tag == 'h2':\n",
    "            self.a = 'h2'\n",
    "            \n",
    "    def handle_data(self, data):\n",
    "        if self.a == 'h1':\n",
    "            print(data)\n",
    "        if self.a == 'h2':\n",
    "            print('\\t'+data)\n",
    "      \n",
    "    def handle_endtag(self, tag):\n",
    "         if tag =='h1' or tag == 'h2':\n",
    "            self.a = ''\n",
    "            \n",
    "infile = open('w3c.html') \n",
    "content = infile.read() \n",
    "infile.close() \n",
    "hp = HeadingParser()\n",
    "hp.feed(content) "
   ]
  },
  {
   "cell_type": "markdown",
   "id": "7295c041",
   "metadata": {},
   "source": [
    "<h1><font color='green'><font= \"Courier New Bold\">\n",
    "    Question 7\n",
    "    </font></h1>\n",
    "<p></p>"
   ]
  },
  {
   "cell_type": "code",
   "execution_count": 82,
   "id": "6250333e",
   "metadata": {},
   "outputs": [
    {
     "name": "stdout",
     "output_type": "stream",
     "text": [
      "http://reed.cs.depaul.edu/lperkovic/test1.html\n",
      "\thttp://reed.cs.depaul.edu/lperkovic/test2.html\n",
      "\t\thttp://reed.cs.depaul.edu/lperkovic/test4.html\n",
      "\thttp://reed.cs.depaul.edu/lperkovic/test3.html\n",
      "\t\thttp://reed.cs.depaul.edu/lperkovic/test4.html\n"
     ]
    }
   ],
   "source": [
    "from urllib.request import urlopen\n",
    "from urllib.parse import urljoin\n",
    "from html.parser import HTMLParser\n",
    "\n",
    "class Collector(HTMLParser):\n",
    "#     collects hyperlink URLs into a list    \n",
    "    def __init__(self, url):\n",
    "#         initializes parser, the url, and a list        \n",
    "        HTMLParser.__init__(self)\n",
    "        self.url = url\n",
    "        self.links = []    \n",
    "#         print(self.url, \"Self\"*3)\n",
    "    def handle_starttag(self, tag, attrs):\n",
    "        if tag == 'a':\n",
    "            for attr in attrs:\n",
    "                if attr[0] == 'href':                    \n",
    "                    # construct absolute URL\n",
    "                    absolute = urljoin(self.url, attr[1])\n",
    "                    if absolute[:4] == 'http':  # collect HTTP URLs\n",
    "                        self.links.append(absolute)        \n",
    "    def getLinks(self):\n",
    "        return self.links\n",
    "# returns hyperlinks URLs in their absolute format\n",
    "def webdir(url, depth, indent):\n",
    "    #for obtain links in the web page\n",
    "    content = urlopen(url).read().decode()\n",
    "    collector = Collector(url)\n",
    "    collector.feed(content)\n",
    "    urls = collector.getLinks()  \n",
    "    #to print the http links found in web page\n",
    "    print(\"\\t\"*indent+\"{}\".format(url))\n",
    "    for link in urls:        \n",
    "        webdir(link,depth-1,indent+1)  \n",
    "\n",
    "webdir('http://reed.cs.depaul.edu/lperkovic/test1.html', 2, 0)"
   ]
  },
  {
   "cell_type": "markdown",
   "id": "66eb5d70",
   "metadata": {},
   "source": [
    "<h1><font color='voilet'><font= \"Courier New Bold\">\n",
    "    Question 8\n",
    "    </font></h1>\n",
    "<p></p>"
   ]
  },
  {
   "cell_type": "markdown",
   "id": "3b79c928",
   "metadata": {},
   "source": [
    "SELECT Tempreture from Table;\n",
    "SELECT distinct City from Table;\n",
    "SELECT* from Table where Country='India';\n",
    "SELECT* from Table where Season='Fall';\n",
    "SELECT City, Country where Rainfall >=200 and Rainfall <=400;\n",
    "SELECT City, Country from Table where Temprature > 20 order by Temprature ASC;\n",
    "SELECT count(rainfall) from Table where City='Cairo';\n",
    "SELECT rainfall,count(rainfall) from Table group by Rainfall; "
   ]
  },
  {
   "cell_type": "markdown",
   "id": "7b9d7be6",
   "metadata": {},
   "source": [
    "<h1><font color='Orange'><font= \"Courier New Bold\">\n",
    "    Question 9\n",
    "    </font></h1>\n",
    "<p></p>"
   ]
  },
  {
   "cell_type": "code",
   "execution_count": 67,
   "id": "62791346",
   "metadata": {},
   "outputs": [
    {
     "name": "stdout",
     "output_type": "stream",
     "text": [
      "['THE', 'QUICK', 'BROWN', 'FOX', 'JUMPS', 'OVER', 'THE', 'LAZY', 'DOG']\n",
      "['the', 'quick', 'brown', 'fox', 'jumps', 'over', 'the', 'lazy', 'dog']\n",
      "[3, 5, 5, 3, 5, 4, 3, 4, 3]\n",
      "[['THE', 'the', 3], ['QUICK', 'quick', 5], ['BROWN', 'brown', 5], ['FOX', 'fox', 3], ['JUMPS', 'jumps', 5], ['OVER', 'over', 4], ['THE', 'the', 3], ['LAZY', 'lazy', 4], ['DOG', 'dog', 3]]\n",
      "['quick', 'brown', 'jumps', 'over', 'lazy']\n"
     ]
    }
   ],
   "source": [
    "words = ['The', 'quick', 'brown', 'fox', 'jumps', 'over', 'the', 'lazy', 'dog']\n",
    "\n",
    "\n",
    "UpperCaselist = [w.upper() for w in words]\n",
    "LowerCaselist = [w.lower() for w in words]\n",
    "Lengthlist= [len(w) for w in words]\n",
    "LowerUpperLenList= [[w.upper(),w.lower(),len(w)] for w in words]\n",
    "MoreChar = [i.lower() for i in words if len(i)>=4]\n",
    "\n",
    "print (UpperCaselist)\n",
    "print (LowerCaselist)\n",
    "print (Lengthlist)\n",
    "print (LowerUpperLenList)\n",
    "print (MoreChar)\n",
    "\n"
   ]
  }
 ],
 "metadata": {
  "kernelspec": {
   "display_name": "Python 3 (ipykernel)",
   "language": "python",
   "name": "python3"
  },
  "language_info": {
   "codemirror_mode": {
    "name": "ipython",
    "version": 3
   },
   "file_extension": ".py",
   "mimetype": "text/x-python",
   "name": "python",
   "nbconvert_exporter": "python",
   "pygments_lexer": "ipython3",
   "version": "3.9.7"
  }
 },
 "nbformat": 4,
 "nbformat_minor": 5
}
